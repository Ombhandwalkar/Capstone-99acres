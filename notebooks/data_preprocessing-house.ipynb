{
 "cells": [
  {
   "cell_type": "code",
   "execution_count": 1,
   "metadata": {},
   "outputs": [],
   "source": [
    "import numpy as np\n",
    "import pandas as pd"
   ]
  },
  {
   "cell_type": "code",
   "execution_count": 2,
   "metadata": {},
   "outputs": [],
   "source": [
    "pd.set_option('display.max_rows',None)\n",
    "pd.set_option('display.max_columns',None)"
   ]
  },
  {
   "cell_type": "code",
   "execution_count": 3,
   "metadata": {},
   "outputs": [],
   "source": [
    "df=pd.read_csv(r'B:\\Major_Git\\Capstone-99acres\\data\\external\\independent-house.csv')"
   ]
  },
  {
   "cell_type": "code",
   "execution_count": 4,
   "metadata": {},
   "outputs": [
    {
     "data": {
      "text/html": [
       "<div>\n",
       "<style scoped>\n",
       "    .dataframe tbody tr th:only-of-type {\n",
       "        vertical-align: middle;\n",
       "    }\n",
       "\n",
       "    .dataframe tbody tr th {\n",
       "        vertical-align: top;\n",
       "    }\n",
       "\n",
       "    .dataframe thead th {\n",
       "        text-align: right;\n",
       "    }\n",
       "</style>\n",
       "<table border=\"1\" class=\"dataframe\">\n",
       "  <thead>\n",
       "    <tr style=\"text-align: right;\">\n",
       "      <th></th>\n",
       "      <th>property_name</th>\n",
       "      <th>link</th>\n",
       "      <th>society</th>\n",
       "      <th>price</th>\n",
       "      <th>rate</th>\n",
       "      <th>area</th>\n",
       "      <th>areaWithType</th>\n",
       "      <th>bedRoom</th>\n",
       "      <th>bathroom</th>\n",
       "      <th>balcony</th>\n",
       "      <th>additionalRoom</th>\n",
       "      <th>address</th>\n",
       "      <th>noOfFloor</th>\n",
       "      <th>facing</th>\n",
       "      <th>agePossession</th>\n",
       "      <th>nearbyLocations</th>\n",
       "      <th>description</th>\n",
       "      <th>furnishDetails</th>\n",
       "      <th>features</th>\n",
       "      <th>rating</th>\n",
       "      <th>property_id</th>\n",
       "    </tr>\n",
       "  </thead>\n",
       "  <tbody>\n",
       "    <tr>\n",
       "      <th>0</th>\n",
       "      <td>5 Bedroom House for sale in Sector 70A Gurgaon</td>\n",
       "      <td>https://www.99acres.com/5-bhk-bedroom-independ...</td>\n",
       "      <td>Bptp Visionnaire</td>\n",
       "      <td>5.25 Crore</td>\n",
       "      <td>₹ 20,115/sq.ft.</td>\n",
       "      <td>(242 sq.m.) Plot Area</td>\n",
       "      <td>Plot area 290(242.48 sq.m.)</td>\n",
       "      <td>5 Bedrooms</td>\n",
       "      <td>4 Bathrooms</td>\n",
       "      <td>3+ Balconies</td>\n",
       "      <td>Servant Room</td>\n",
       "      <td>29b, Sector 70A Gurgaon, Gurgaon, Haryana</td>\n",
       "      <td>3 Floors</td>\n",
       "      <td>North-East</td>\n",
       "      <td>0 to 1 Year Old</td>\n",
       "      <td>['Good Earth City Center 2', 'Kunskapsskolan I...</td>\n",
       "      <td>Do you wish to buy an independent house in sec...</td>\n",
       "      <td>['1 Wardrobe', '1 Fan', '1 Exhaust Fan', '1 Ge...</td>\n",
       "      <td>['Feng Shui / Vaastu Compliant', 'Private Gard...</td>\n",
       "      <td>['Environment5 out of 5', 'Lifestyle4 out of 5...</td>\n",
       "      <td>K70037724</td>\n",
       "    </tr>\n",
       "  </tbody>\n",
       "</table>\n",
       "</div>"
      ],
      "text/plain": [
       "                                    property_name  \\\n",
       "0  5 Bedroom House for sale in Sector 70A Gurgaon   \n",
       "\n",
       "                                                link           society  \\\n",
       "0  https://www.99acres.com/5-bhk-bedroom-independ...  Bptp Visionnaire   \n",
       "\n",
       "        price             rate                   area  \\\n",
       "0  5.25 Crore  ₹ 20,115/sq.ft.  (242 sq.m.) Plot Area   \n",
       "\n",
       "                  areaWithType     bedRoom     bathroom       balcony  \\\n",
       "0  Plot area 290(242.48 sq.m.)  5 Bedrooms  4 Bathrooms  3+ Balconies   \n",
       "\n",
       "  additionalRoom                                    address noOfFloor  \\\n",
       "0   Servant Room  29b, Sector 70A Gurgaon, Gurgaon, Haryana  3 Floors   \n",
       "\n",
       "       facing    agePossession  \\\n",
       "0  North-East  0 to 1 Year Old   \n",
       "\n",
       "                                     nearbyLocations  \\\n",
       "0  ['Good Earth City Center 2', 'Kunskapsskolan I...   \n",
       "\n",
       "                                         description  \\\n",
       "0  Do you wish to buy an independent house in sec...   \n",
       "\n",
       "                                      furnishDetails  \\\n",
       "0  ['1 Wardrobe', '1 Fan', '1 Exhaust Fan', '1 Ge...   \n",
       "\n",
       "                                            features  \\\n",
       "0  ['Feng Shui / Vaastu Compliant', 'Private Gard...   \n",
       "\n",
       "                                              rating property_id  \n",
       "0  ['Environment5 out of 5', 'Lifestyle4 out of 5...   K70037724  "
      ]
     },
     "execution_count": 4,
     "metadata": {},
     "output_type": "execute_result"
    }
   ],
   "source": [
    "df.head(1)"
   ]
  },
  {
   "cell_type": "code",
   "execution_count": 5,
   "metadata": {},
   "outputs": [
    {
     "data": {
      "text/plain": [
       "np.int64(13)"
      ]
     },
     "execution_count": 5,
     "metadata": {},
     "output_type": "execute_result"
    }
   ],
   "source": [
    "df.duplicated().sum()"
   ]
  },
  {
   "cell_type": "code",
   "execution_count": 6,
   "metadata": {},
   "outputs": [],
   "source": [
    "df=df.drop_duplicates()"
   ]
  },
  {
   "cell_type": "code",
   "execution_count": 7,
   "metadata": {},
   "outputs": [
    {
     "data": {
      "text/plain": [
       "property_name        0\n",
       "link                 0\n",
       "society            579\n",
       "price               69\n",
       "rate                38\n",
       "area                 0\n",
       "areaWithType        50\n",
       "bedRoom             50\n",
       "bathroom            50\n",
       "balcony             50\n",
       "additionalRoom     446\n",
       "address              6\n",
       "noOfFloor           69\n",
       "facing             362\n",
       "agePossession       50\n",
       "nearbyLocations    124\n",
       "description          1\n",
       "furnishDetails     292\n",
       "features           362\n",
       "rating             130\n",
       "property_id          1\n",
       "dtype: int64"
      ]
     },
     "execution_count": 7,
     "metadata": {},
     "output_type": "execute_result"
    }
   ],
   "source": [
    "df.isnull().sum()"
   ]
  },
  {
   "cell_type": "code",
   "execution_count": 8,
   "metadata": {},
   "outputs": [],
   "source": [
    "df.drop(columns=['link','property_id'],inplace=True)"
   ]
  },
  {
   "cell_type": "code",
   "execution_count": 9,
   "metadata": {},
   "outputs": [],
   "source": [
    "df.rename(columns={'rate':'price_per_sqft'},inplace=True)"
   ]
  },
  {
   "cell_type": "code",
   "execution_count": 10,
   "metadata": {},
   "outputs": [
    {
     "data": {
      "text/plain": [
       "society\n",
       "Emaar MGF Marbella                                   26\n",
       "International City by SOBHA Phase 2                  26\n",
       "Vipul Tatvam Villa                                   24\n",
       "International City by Sobha Phase 1                  23\n",
       "Unitech Uniworld Resorts                             13\n",
       "Unitech Espace                                       11\n",
       "DLF City Plots Phase 2                               11\n",
       "DLF City Plots                                       11\n",
       "Eldeco Mansionz                                       9\n",
       "Bptp Visionnaire                                      8\n",
       "Not Applicable                                        7\n",
       "Uppal Southend4.0 ★                                   7\n",
       "Ansals Palam Vihar                                    6\n",
       "Sushant Lok 1 Builder Floors                          6\n",
       "Experion Windchants3.8 ★                              5\n",
       "DLF City Phase 1                                      5\n",
       "Ansal Sushant Lok Plots4.1 ★                          4\n",
       "Unitech Aspen Greens                                  4\n",
       "DLF Alameda                                           4\n",
       "Vatika India Next4.1 ★                                4\n",
       "nul                                                   4\n",
       "Puri Diplomatic Greens4.0 ★                           3\n",
       "DLF City Plots Phase 3                                3\n",
       "Anant Raj Estates                                     3\n",
       "Central Park Flower Valley                            3\n",
       "Housing Board Colony                                  3\n",
       "SS Aaron Ville                                        3\n",
       "Vatika Signature Villas                               3\n",
       "Eros Rosewood Villas                                  3\n",
       "BPTP Astaire Gardens3.7 ★                             3\n",
       "Unitech Nirvana Birch Court                           3\n",
       "Ansals Florence Villa                                 3\n",
       "Eros Rosewood City4.0 ★                               3\n",
       "Malibu Towne                                          3\n",
       "Palam Vihar Extension West Zone RWA                   3\n",
       "DLF New Town Heights 24.0 ★                           3\n",
       "Rattan Garden                                         3\n",
       "Sector 14 RWA                                         3\n",
       "Tata Primanti4.1 ★                                    3\n",
       "Unitech Deerwood Chase                                2\n",
       "shivpuri                                              2\n",
       "Project Housing Board Colony                          2\n",
       "Project Mianwali Colony                               2\n",
       "Bestech Park View Ananda4.2 ★                         2\n",
       "Spaze Privy3.9 ★                                      2\n",
       "Emaar Emerald Hills4.1 ★                              2\n",
       "Suncity Essel Towers4.2 ★                             2\n",
       "Ansal API Esencia3.7 ★                                2\n",
       "Luxury DLF City Floors                                2\n",
       "Saksham Welfare Association                           2\n",
       "Unitech Palms South City 1                            2\n",
       "BPTP Pedestal                                         2\n",
       "RWA Sector 46                                         2\n",
       "Emaar The Palm Springs                                2\n",
       "Suncity Township4.1 ★                                 2\n",
       "Nirvana Cedar Crest                                   2\n",
       "SS Hibiscus                                           2\n",
       "Silverglades Tarudhan Valley Golf Resort              2\n",
       "Ardee City3.8 ★                                       2\n",
       "Hans Enclave                                          2\n",
       "Satya The Hermitage3.5 ★                              2\n",
       "Sobha City                                            2\n",
       "IFFCO Nagar and 17B RWA                               2\n",
       "Bhim Garh Kheri                                       2\n",
       "Sector 38 RWA                                         2\n",
       "Unitech Escape3.8 ★                                   2\n",
       "ATS Tourmaline3.9 ★                                   1\n",
       "house number B-34                                     1\n",
       "Rajendra Park Gurgaon                                 1\n",
       "DLF Gardencity Enclave                                1\n",
       "Surat nagar phase 2                                   1\n",
       "My Home                                               1\n",
       "Signature Global Park4.0 ★                            1\n",
       "Sector-17C                                            1\n",
       "huda sector-56 gurgaon                                1\n",
       "private house                                         1\n",
       "Grover Homes Sec 4                                    1\n",
       "sector 37                                             1\n",
       "FLOOR WISE DESIGNER KOTHI                             1\n",
       "DLF New Town Heights3.7 ★                             1\n",
       "All Punjabi Welfare Association                       1\n",
       "Ansal Heights3.2 ★                                    1\n",
       "Ninex City                                            1\n",
       "rajendra park sec 105                                 1\n",
       "HUDA Ashok Vihar Phase 13.9 ★                         1\n",
       "Ashok Vihar Phase 3 Gurgaon                           1\n",
       "Farrukhnagar                                          1\n",
       "Prem Kunj                                             1\n",
       "secter 16a daultabad faridabad house no 313           1\n",
       "Bhawani enclave                                       1\n",
       "Ansal Celebrity Homes                                 1\n",
       "Shri Shyam Residency                                  1\n",
       "HUDA Housing Board Colony4.1 ★                        1\n",
       "Tulip Yellow                                          1\n",
       "shree krishna homes                                   1\n",
       "Laxmi Garden Sector-11                                1\n",
       "ROW HOUSE                                             1\n",
       "Jacobpura                                             1\n",
       "Indiabulls Centrum Park3.7 ★                          1\n",
       "Krishna Palace                                        1\n",
       "Huda Flats                                            1\n",
       "Naman Residency                                       1\n",
       "Madan puri                                            1\n",
       "Smart World Gems                                      1\n",
       "Tulip Ivory3.5 ★                                      1\n",
       "MANOHAR NAGAR                                         1\n",
       "Vatika Sovereign Next                                 1\n",
       "DLF The Grove                                         1\n",
       "Surendra Homes Dayanand Colony                        1\n",
       "RK Excelo                                             1\n",
       "Anand Garden, Sector-105                              1\n",
       "Jacobpura Gurugram                                    1\n",
       "Hero Homes                                            1\n",
       "Ganpati Heights Apartment                             1\n",
       "Huda Plots                                            1\n",
       "DLF Garden City Floors                                1\n",
       "Emaar MGF The Palm Drive4.1 ★                         1\n",
       "Anamika Enclave                                       1\n",
       "bhim nagar, sector 6                                  1\n",
       "DLF The Arbour                                        1\n",
       "Om Nagar, Sector-11                                   1\n",
       "Suncity Avenue 76                                     1\n",
       "SS Omnia                                              1\n",
       "Anshul                                                1\n",
       "Sare Crescent Parc Royal Greens Phase 1               1\n",
       "Greenopolis                                           1\n",
       "Vipul World3.9 ★                                      1\n",
       "Nirmal Enclave, Maruti Kunj Road                      1\n",
       "Ansal Esencia Sovereign Floors                        1\n",
       "Raj Villas                                            1\n",
       "Shivaji Nagar Residential                             1\n",
       "jacob pura                                            1\n",
       "mahavir pura                                          1\n",
       "Bhim Nagar Society                                    1\n",
       "Sai Kripa Floors 5                                    1\n",
       "DLF City Plot Phase 4                                 1\n",
       "Signature Global City 92                              1\n",
       "mian wali                                             1\n",
       "HUDA Plot Sector 38                                   1\n",
       "nirvana country                                       1\n",
       "Landmark House                                        1\n",
       "Nitin Vihar                                           1\n",
       "Sector 15 Part 2 RWA                                  1\n",
       "cloudnine cottages                                    1\n",
       "u block dlf phase 3 road no 21                        1\n",
       "Ashok vihar phase III Extension                       1\n",
       "Ansal                                                 1\n",
       "Adani Brahma Samsara4.2 ★                             1\n",
       "Sheetla Enclave                                       1\n",
       "DLF City Plot Phase 3                                 1\n",
       "Signature Global City 63A                             1\n",
       "rattan vihar rajendra park                            1\n",
       "sneh vihar                                            1\n",
       "Unitech South City 23.8 ★                             1\n",
       "Smart World Orchard                                   1\n",
       "Ansal Florence Super                                  1\n",
       "Ireo Victory Valley4.1 ★                              1\n",
       "Ansal API Spanish Court                               1\n",
       "4S Aradhya Homes                                      1\n",
       "Birla Navya                                           1\n",
       "Central Park Flower Valley Cerise Floors              1\n",
       "DLF City Plots Phase 4                                1\n",
       "Kothi                                                 1\n",
       "Ansal Sushant Lok                                     1\n",
       "Central Park                                          1\n",
       "Signature Global City                                 1\n",
       "DLF Floors Phase 3                                    1\n",
       "Ansal Sushant Residency                               1\n",
       "DLF South City 1                                      1\n",
       "Ireo Victory Valley4.0 ★                              1\n",
       "Independent House Sector 45                           1\n",
       "Vatika The Seven Lamps3.8 ★                           1\n",
       "Unitech Greenwood City3.6 ★                           1\n",
       "Nirvana Country                                       1\n",
       "Signature Global City 81                              1\n",
       "Satya The Legend3.8 ★                                 1\n",
       "DLF Pink Town House4.0 ★                              1\n",
       "Vatika Independent Floors3.8 ★                        1\n",
       "Arjun Marg/ Sector- 26 Phase- 1/ Golf Course Road     1\n",
       "The Laburnum                                          1\n",
       "Ansal Sushant Lok 2                                   1\n",
       "Sector 57 Huda                                        1\n",
       "Godrej Meridien                                       1\n",
       "Huda                                                  1\n",
       "Huda Floor                                            1\n",
       "Name: count, dtype: int64"
      ]
     },
     "execution_count": 10,
     "metadata": {},
     "output_type": "execute_result"
    }
   ],
   "source": [
    "df['society'].value_counts()"
   ]
  },
  {
   "cell_type": "code",
   "execution_count": 12,
   "metadata": {},
   "outputs": [],
   "source": [
    "import re\n",
    "df['society'] = df['society'].apply(lambda name: re.sub(r'\\d+(\\.\\d+)?\\s?★', '', str(name)).strip()).str.lower()"
   ]
  },
  {
   "cell_type": "code",
   "execution_count": 13,
   "metadata": {},
   "outputs": [
    {
     "data": {
      "text/plain": [
       "society\n",
       "nan                                                  579\n",
       "emaar mgf marbella                                    26\n",
       "international city by sobha phase 2                   26\n",
       "vipul tatvam villa                                    24\n",
       "international city by sobha phase 1                   23\n",
       "unitech uniworld resorts                              13\n",
       "unitech espace                                        11\n",
       "dlf city plots                                        11\n",
       "dlf city plots phase 2                                11\n",
       "eldeco mansionz                                        9\n",
       "bptp visionnaire                                       8\n",
       "not applicable                                         7\n",
       "uppal southend                                         7\n",
       "sushant lok 1 builder floors                           6\n",
       "ansals palam vihar                                     6\n",
       "experion windchants                                    5\n",
       "dlf city phase 1                                       5\n",
       "unitech aspen greens                                   4\n",
       "dlf alameda                                            4\n",
       "ansal sushant lok plots                                4\n",
       "dlf new town heights                                   4\n",
       "vatika india next                                      4\n",
       "nul                                                    4\n",
       "housing board colony                                   3\n",
       "central park flower valley                             3\n",
       "anant raj estates                                      3\n",
       "tata primanti                                          3\n",
       "bptp astaire gardens                                   3\n",
       "unitech nirvana birch court                            3\n",
       "ansals florence villa                                  3\n",
       "vatika signature villas                                3\n",
       "sector 14 rwa                                          3\n",
       "ss aaron ville                                         3\n",
       "eros rosewood city                                     3\n",
       "rattan garden                                          3\n",
       "malibu towne                                           3\n",
       "palam vihar extension west zone rwa                    3\n",
       "puri diplomatic greens                                 3\n",
       "dlf city plots phase 3                                 3\n",
       "eros rosewood villas                                   3\n",
       "project mianwali colony                                2\n",
       "sobha city                                             2\n",
       "bestech park view ananda                               2\n",
       "ansal api esencia                                      2\n",
       "luxury dlf city floors                                 2\n",
       "shivpuri                                               2\n",
       "suncity essel towers                                   2\n",
       "emaar emerald hills                                    2\n",
       "unitech deerwood chase                                 2\n",
       "spaze privy                                            2\n",
       "saksham welfare association                            2\n",
       "nirvana country                                        2\n",
       "suncity township                                       2\n",
       "ireo victory valley                                    2\n",
       "nirvana cedar crest                                    2\n",
       "rwa sector 46                                          2\n",
       "sector 38 rwa                                          2\n",
       "silverglades tarudhan valley golf resort               2\n",
       "hans enclave                                           2\n",
       "iffco nagar and 17b rwa                                2\n",
       "bptp pedestal                                          2\n",
       "unitech palms south city 1                             2\n",
       "emaar the palm springs                                 2\n",
       "ardee city                                             2\n",
       "unitech escape                                         2\n",
       "satya the hermitage                                    2\n",
       "ss hibiscus                                            2\n",
       "project housing board colony                           2\n",
       "bhim garh kheri                                        2\n",
       "signature global park                                  1\n",
       "surat nagar phase 2                                    1\n",
       "huda sector-56 gurgaon                                 1\n",
       "sector-17c                                             1\n",
       "grover homes sec 4                                     1\n",
       "floor wise designer kothi                              1\n",
       "sector 37                                              1\n",
       "my home                                                1\n",
       "ansal heights                                          1\n",
       "ninex city                                             1\n",
       "rajendra park sec 105                                  1\n",
       "secter 16a daultabad faridabad house no 313            1\n",
       "all punjabi welfare association                        1\n",
       "private house                                          1\n",
       "huda ashok vihar phase                                 1\n",
       "ashok vihar phase 3 gurgaon                            1\n",
       "farrukhnagar                                           1\n",
       "prem kunj                                              1\n",
       "house number b-34                                      1\n",
       "rajendra park gurgaon                                  1\n",
       "dlf gardencity enclave                                 1\n",
       "shree krishna homes                                    1\n",
       "laxmi garden sector-11                                 1\n",
       "huda housing board colony                              1\n",
       "tulip yellow                                           1\n",
       "shri shyam residency                                   1\n",
       "madan puri                                             1\n",
       "indiabulls centrum park                                1\n",
       "jacobpura                                              1\n",
       "huda flats                                             1\n",
       "smart world gems                                       1\n",
       "ganpati heights apartment                              1\n",
       "hero homes                                             1\n",
       "dlf garden city floors                                 1\n",
       "vatika sovereign next                                  1\n",
       "manohar nagar                                          1\n",
       "anamika enclave                                        1\n",
       "bhim nagar, sector 6                                   1\n",
       "surendra homes dayanand colony                         1\n",
       "dlf the grove                                          1\n",
       "rk excelo                                              1\n",
       "anand garden, sector-105                               1\n",
       "jacobpura gurugram                                     1\n",
       "huda plots                                             1\n",
       "tulip ivory                                            1\n",
       "emaar mgf the palm drive                               1\n",
       "om nagar, sector-11                                    1\n",
       "bhawani enclave                                        1\n",
       "dlf the arbour                                         1\n",
       "ats tourmaline                                         1\n",
       "anshul                                                 1\n",
       "sare crescent parc royal greens phase 1                1\n",
       "greenopolis                                            1\n",
       "vipul world                                            1\n",
       "ansal esencia sovereign floors                         1\n",
       "nirmal enclave, maruti kunj road                       1\n",
       "mahavir pura                                           1\n",
       "jacob pura                                             1\n",
       "signature global city 92                               1\n",
       "bhim nagar society                                     1\n",
       "raj villas                                             1\n",
       "shivaji nagar residential                              1\n",
       "krishna palace                                         1\n",
       "naman residency                                        1\n",
       "sai kripa floors 5                                     1\n",
       "dlf city plot phase 4                                  1\n",
       "ansal celebrity homes                                  1\n",
       "row house                                              1\n",
       "huda plot sector 38                                    1\n",
       "mian wali                                              1\n",
       "ashok vihar phase iii extension                        1\n",
       "u block dlf phase 3 road no 21                         1\n",
       "sector 15 part 2 rwa                                   1\n",
       "nitin vihar                                            1\n",
       "cloudnine cottages                                     1\n",
       "rattan vihar rajendra park                             1\n",
       "ss omnia                                               1\n",
       "suncity avenue 76                                      1\n",
       "adani brahma samsara                                   1\n",
       "dlf city plot phase 3                                  1\n",
       "sheetla enclave                                        1\n",
       "sneh vihar                                             1\n",
       "smart world orchard                                    1\n",
       "ansal florence super                                   1\n",
       "ansal api spanish court                                1\n",
       "4s aradhya homes                                       1\n",
       "central park flower valley cerise floors               1\n",
       "landmark house                                         1\n",
       "kothi                                                  1\n",
       "birla navya                                            1\n",
       "dlf city plots phase 4                                 1\n",
       "signature global city 63a                              1\n",
       "ansal                                                  1\n",
       "signature global city                                  1\n",
       "signature global city 81                               1\n",
       "ansal sushant residency                                1\n",
       "dlf floors phase 3                                     1\n",
       "unitech south city                                     1\n",
       "independent house sector 45                            1\n",
       "ansal sushant lok                                      1\n",
       "vatika the seven lamps                                 1\n",
       "unitech greenwood city                                 1\n",
       "central park                                           1\n",
       "dlf south city 1                                       1\n",
       "satya the legend                                       1\n",
       "dlf pink town house                                    1\n",
       "vatika independent floors                              1\n",
       "arjun marg/ sector- 26 phase- 1/ golf course road      1\n",
       "the laburnum                                           1\n",
       "ansal sushant lok 2                                    1\n",
       "sector 57 huda                                         1\n",
       "godrej meridien                                        1\n",
       "huda                                                   1\n",
       "huda floor                                             1\n",
       "Name: count, dtype: int64"
      ]
     },
     "execution_count": 13,
     "metadata": {},
     "output_type": "execute_result"
    }
   ],
   "source": [
    "df['society'].value_counts()"
   ]
  },
  {
   "cell_type": "code",
   "execution_count": null,
   "metadata": {},
   "outputs": [],
   "source": [
    "# Replacing the nan values to the independent values\n",
    "df['society']=df['society'].str.replace('nan','independent')"
   ]
  },
  {
   "cell_type": "code",
   "execution_count": 16,
   "metadata": {},
   "outputs": [
    {
     "data": {
      "text/plain": [
       "price\n",
       "3.5 Crore           19\n",
       "5.5 Crore           17\n",
       "6.5 Crore           16\n",
       "6 Crore             14\n",
       "75 Lac              13\n",
       "70 Lac              13\n",
       "4.5 Crore           13\n",
       "5 Crore             13\n",
       "50 Lac              13\n",
       "8 Crore             13\n",
       "85 Lac              12\n",
       "7 Crore             12\n",
       "8.5 Crore           12\n",
       "4 Crore             11\n",
       "1.5 Crore           11\n",
       "Price on Request    10\n",
       "60 Lac              10\n",
       "90 Lac              10\n",
       "2.5 Crore           10\n",
       "10 Crore            10\n",
       "9 Crore             10\n",
       "45 Lac              10\n",
       "2.25 Crore          10\n",
       "1.7 Crore            9\n",
       "9.5 Crore            9\n",
       "1.1 Crore            9\n",
       "12 Crore             9\n",
       "2 Crore              9\n",
       "80 Lac               9\n",
       "11 Crore             8\n",
       "6.75 Crore           8\n",
       "1 Crore              8\n",
       "4.6 Crore            8\n",
       "1.6 Crore            8\n",
       "12.5 Crore           7\n",
       "65 Lac               7\n",
       "95 Lac               7\n",
       "3.75 Crore           7\n",
       "2.1 Crore            7\n",
       "1.35 Crore           7\n",
       "55 Lac               7\n",
       "1.3 Crore            7\n",
       "1.2 Crore            7\n",
       "40 Lac               7\n",
       "2.75 Crore           6\n",
       "5.7 Crore            6\n",
       "2.95 Crore           6\n",
       "4.25 Crore           6\n",
       "7.5 Crore            6\n",
       "13.5 Crore           6\n",
       "3.25 Crore           6\n",
       "10.5 Crore           6\n",
       "6.25 Crore           6\n",
       "1.15 Crore           6\n",
       "3.6 Crore            6\n",
       "16 Crore             6\n",
       "1.45 Crore           6\n",
       "35 Lac               5\n",
       "3 Crore              5\n",
       "1.8 Crore            5\n",
       "2.8 Crore            5\n",
       "7.25 Crore           5\n",
       "5.6 Crore            5\n",
       "38 Lac               5\n",
       "4.75 Crore           5\n",
       "15 Crore             5\n",
       "1.25 Crore           5\n",
       "9.25 Crore           4\n",
       "11.5 Crore           4\n",
       "4.35 Crore           4\n",
       "5.75 Crore           4\n",
       "17 Crore             4\n",
       "3.2 Crore            4\n",
       "18 Crore             4\n",
       "4.7 Crore            4\n",
       "6.8 Crore            4\n",
       "1.65 Crore           4\n",
       "1.4 Crore            4\n",
       "13 Crore             4\n",
       "3.3 Crore            4\n",
       "42 Lac               4\n",
       "2.4 Crore            4\n",
       "37 Lac               4\n",
       "5.8 Crore            4\n",
       "8.25 Crore           4\n",
       "5.25 Crore           4\n",
       "20 Crore             3\n",
       "1.95 Crore           3\n",
       "4.45 Crore           3\n",
       "7.35 Crore           3\n",
       "8.4 Crore            3\n",
       "3.4 Crore            3\n",
       "7.2 Crore            3\n",
       "1.16 Crore           3\n",
       "6.95 Crore           3\n",
       "2.3 Crore            3\n",
       "2.2 Crore            3\n",
       "82 Lac               3\n",
       "34 Lac               3\n",
       "49 Lac               3\n",
       "62 Lac               3\n",
       "32 Lac               3\n",
       "5.65 Crore           3\n",
       "19 Crore             3\n",
       "1.9 Crore            3\n",
       "2.9 Crore            3\n",
       "4.3 Crore            3\n",
       "1.85 Crore           3\n",
       "92 Lac               3\n",
       "5.15 Crore           3\n",
       "3.1 Crore            3\n",
       "6.4 Crore            3\n",
       "1.55 Crore           3\n",
       "3.85 Crore           3\n",
       "3.05 Crore           2\n",
       "6.3 Crore            2\n",
       "66 Lac               2\n",
       "11.25 Crore          2\n",
       "3.55 Crore           2\n",
       "19.5 Crore           2\n",
       "26 Crore             2\n",
       "67 Lac               2\n",
       "3.51 Crore           2\n",
       "11.75 Crore          2\n",
       "10.45 Crore          2\n",
       "11.95 Crore          2\n",
       "3.15 Crore           2\n",
       "1.05 Crore           2\n",
       "15.5 Crore           2\n",
       "9.9 Crore            2\n",
       "14 Crore             2\n",
       "7.1 Crore            2\n",
       "2.55 Crore           2\n",
       "89 Lac               2\n",
       "8.49 Crore           2\n",
       "4.95 Crore           2\n",
       "48 Lac               2\n",
       "30 Lac               2\n",
       "58 Lac               2\n",
       "1.75 Crore           2\n",
       "36 Lac               2\n",
       "10.85 Crore          2\n",
       "58.25 Lac            2\n",
       "3.65 Crore           2\n",
       "2.15 Crore           2\n",
       "3.35 Crore           2\n",
       "10.55 Crore          2\n",
       "4.12 Crore           1\n",
       "5.51 Crore           1\n",
       "3.49 Crore           1\n",
       "8.48 Crore           1\n",
       "11.58 Crore          1\n",
       "4.31 Crore           1\n",
       "5.46 Crore           1\n",
       "7.6 Crore            1\n",
       "10.56 Crore          1\n",
       "10.75 Crore          1\n",
       "8.2 Crore            1\n",
       "4.05 Crore           1\n",
       "9.35 Crore           1\n",
       "1.64 Crore           1\n",
       "9.19 Crore           1\n",
       "2.99 Crore           1\n",
       "9.85 Crore           1\n",
       "1.18 Crore           1\n",
       "9.01 Crore           1\n",
       "4.99 Crore           1\n",
       "9.8 Crore            1\n",
       "15.1 Crore           1\n",
       "8.75 Crore           1\n",
       "25 Crore             1\n",
       "2.68 Crore           1\n",
       "2.45 Crore           1\n",
       "23 Crore             1\n",
       "1.72 Crore           1\n",
       "63 Lac               1\n",
       "53 Lac               1\n",
       "51 Lac               1\n",
       "8.95 Crore           1\n",
       "13.2 Crore           1\n",
       "7.5 Lac              1\n",
       "2.58 Crore           1\n",
       "4.02 Crore           1\n",
       "22 Lac               1\n",
       "3.12 Crore           1\n",
       "6.6 Crore            1\n",
       "61 Lac               1\n",
       "7.05 Crore           1\n",
       "3.69 Crore           1\n",
       "11.3 Crore           1\n",
       "1.87 Crore           1\n",
       "8.7 Crore            1\n",
       "6.2 Crore            1\n",
       "5.35 Crore           1\n",
       "5.85 Crore           1\n",
       "5.9 Crore            1\n",
       "2.7 Crore            1\n",
       "1.04 Crore           1\n",
       "7.85 Crore           1\n",
       "3.93 Crore           1\n",
       "2.35 Crore           1\n",
       "18.25 Crore          1\n",
       "8.6 Crore            1\n",
       "9.55 Crore           1\n",
       "15.5 Lac             1\n",
       "71 Lac               1\n",
       "69 Lac               1\n",
       "74 Lac               1\n",
       "3.09 Crore           1\n",
       "47.5 Lac             1\n",
       "83 Lac               1\n",
       "98 Lac               1\n",
       "24 Lac               1\n",
       "44 Lac               1\n",
       "18 Lac               1\n",
       "65.8 Lac             1\n",
       "96 Lac               1\n",
       "46 Lac               1\n",
       "1.34 Crore           1\n",
       "18.02 Crore          1\n",
       "2.43 Crore           1\n",
       "13 Lac               1\n",
       "59 Lac               1\n",
       "47 Lac               1\n",
       "52.5 Lac             1\n",
       "1.44 Crore           1\n",
       "3.08 Crore           1\n",
       "29 Lac               1\n",
       "3.71 Crore           1\n",
       "78 Lac               1\n",
       "4.65 Crore           1\n",
       "6.1 Crore            1\n",
       "1.07 Crore           1\n",
       "68 Lac               1\n",
       "5.2 Crore            1\n",
       "42.75 Lac            1\n",
       "52 Lac               1\n",
       "1.52 Crore           1\n",
       "8.81 Crore           1\n",
       "6.81 Crore           1\n",
       "3.99 Crore           1\n",
       "59.95 Lac            1\n",
       "7.46 Crore           1\n",
       "24 Crore             1\n",
       "18.9 Crore           1\n",
       "17.3 Crore           1\n",
       "27 Lac               1\n",
       "9.54 Crore           1\n",
       "14.75 Crore          1\n",
       "8.1 Crore            1\n",
       "2.6 Crore            1\n",
       "3.87 Crore           1\n",
       "1.39 Crore           1\n",
       "12.39 Crore          1\n",
       "8.8 Crore            1\n",
       "7.99 Crore           1\n",
       "5.4 Crore            1\n",
       "4.49 Crore           1\n",
       "4.15 Crore           1\n",
       "55.11 Lac            1\n",
       "7.3 Crore            1\n",
       "7.69 Crore           1\n",
       "18.5 Crore           1\n",
       "27.5 Crore           1\n",
       "8.31 Crore           1\n",
       "6.21 Crore           1\n",
       "1.83 Crore           1\n",
       "7.49 Crore           1\n",
       "22 Crore             1\n",
       "8.9 Crore            1\n",
       "2.01 Crore           1\n",
       "3.9 Crore            1\n",
       "5.1 Crore            1\n",
       "5.88 Crore           1\n",
       "12.25 Crore          1\n",
       "46.75 Lac            1\n",
       "9.4 Crore            1\n",
       "52.75 Lac            1\n",
       "8.45 Crore           1\n",
       "6.15 Crore           1\n",
       "2.47 Crore           1\n",
       "3.7 Crore            1\n",
       "18.4 Crore           1\n",
       "4.4 Crore            1\n",
       "99 Lac               1\n",
       "10.3 Crore           1\n",
       "2.65 Crore           1\n",
       "1.27 Crore           1\n",
       "11.29 Crore          1\n",
       "5.3 Crore            1\n",
       "10.8 Crore           1\n",
       "31.5 Crore           1\n",
       "4.1 Crore            1\n",
       "7.65 Crore           1\n",
       "6.46 Crore           1\n",
       "6.44 Crore           1\n",
       "7.8 Crore            1\n",
       "3.8 Crore            1\n",
       "7.45 Crore           1\n",
       "7.42 Crore           1\n",
       "6.09 Crore           1\n",
       "2.98 Crore           1\n",
       "Name: count, dtype: int64"
      ]
     },
     "execution_count": 16,
     "metadata": {},
     "output_type": "execute_result"
    }
   ],
   "source": [
    "df['price'].value_counts()"
   ]
  },
  {
   "cell_type": "code",
   "execution_count": 18,
   "metadata": {},
   "outputs": [],
   "source": [
    "df=df[df['price'] !='Price on Request']"
   ]
  },
  {
   "cell_type": "code",
   "execution_count": 19,
   "metadata": {},
   "outputs": [],
   "source": [
    "def treat_price(x):\n",
    "    if type(x)==float:\n",
    "        return x\n",
    "    else:\n",
    "        if x[1]=='Lac':\n",
    "            return round(float(x[0])/100,2)\n",
    "        else:\n",
    "            return round(float(x[0]),2)"
   ]
  },
  {
   "cell_type": "code",
   "execution_count": 27,
   "metadata": {},
   "outputs": [],
   "source": [
    "df['price']=df['price'].str.split(' ').apply(treat_price)"
   ]
  },
  {
   "cell_type": "code",
   "execution_count": 35,
   "metadata": {},
   "outputs": [],
   "source": [
    "df['price_per_sqft']=df['price_per_sqft'].str.split('/').str.get(0).str.replace('₹','').str.replace(',','').str.strip().astype('float')"
   ]
  },
  {
   "cell_type": "code",
   "execution_count": 37,
   "metadata": {},
   "outputs": [
    {
     "data": {
      "text/plain": [
       "bedRoom\n",
       "4 Bedrooms     232\n",
       "5 Bedrooms     194\n",
       "3 Bedrooms     146\n",
       "2 Bedrooms      88\n",
       "6 Bedrooms      81\n",
       "9 Bedrooms      45\n",
       "1 Bedroom       38\n",
       "8 Bedrooms      33\n",
       "7 Bedrooms      31\n",
       "12 Bedrooms     28\n",
       "10 Bedrooms     21\n",
       "16 Bedrooms     12\n",
       "13 Bedrooms      4\n",
       "11 Bedrooms      2\n",
       "19 Bedrooms      2\n",
       "18 Bedrooms      2\n",
       "21 Bedrooms      1\n",
       "20 Bedrooms      1\n",
       "36 Bedrooms      1\n",
       "34 Bedrooms      1\n",
       "14 Bedrooms      1\n",
       "Name: count, dtype: int64"
      ]
     },
     "execution_count": 37,
     "metadata": {},
     "output_type": "execute_result"
    }
   ],
   "source": [
    "df['bedRoom'].value_counts()"
   ]
  },
  {
   "cell_type": "code",
   "execution_count": 38,
   "metadata": {},
   "outputs": [
    {
     "data": {
      "text/plain": [
       "np.int64(50)"
      ]
     },
     "execution_count": 38,
     "metadata": {},
     "output_type": "execute_result"
    }
   ],
   "source": [
    "df['bedRoom'].isnull().sum()"
   ]
  },
  {
   "cell_type": "code",
   "execution_count": 41,
   "metadata": {},
   "outputs": [],
   "source": [
    "df=df[~df['bedRoom'].isnull()]"
   ]
  },
  {
   "cell_type": "code",
   "execution_count": 46,
   "metadata": {},
   "outputs": [],
   "source": [
    "df['bedRoom']=df['bedRoom'].str.split(' ').str.get(0).astype('int')"
   ]
  },
  {
   "cell_type": "code",
   "execution_count": 50,
   "metadata": {},
   "outputs": [],
   "source": [
    "df['bathroom']=df['bathroom'].str.split(' ').str.get(0).astype('int')"
   ]
  },
  {
   "cell_type": "code",
   "execution_count": 53,
   "metadata": {},
   "outputs": [
    {
     "data": {
      "text/plain": [
       "np.int64(0)"
      ]
     },
     "execution_count": 53,
     "metadata": {},
     "output_type": "execute_result"
    }
   ],
   "source": [
    "df['balcony'].isnull().sum()"
   ]
  },
  {
   "cell_type": "code",
   "execution_count": 55,
   "metadata": {},
   "outputs": [
    {
     "data": {
      "text/plain": [
       "balcony\n",
       "3+ Balconies    365\n",
       "2 Balconies     220\n",
       "3 Balconies     159\n",
       "No Balcony      115\n",
       "1 Balcony       105\n",
       "Name: count, dtype: int64"
      ]
     },
     "execution_count": 55,
     "metadata": {},
     "output_type": "execute_result"
    }
   ],
   "source": [
    "df['balcony'].value_counts()"
   ]
  },
  {
   "cell_type": "code",
   "execution_count": 57,
   "metadata": {},
   "outputs": [],
   "source": [
    "df['balcony']=df['balcony'].str.split(' ').str.get(0).str.replace('No','0')"
   ]
  },
  {
   "cell_type": "code",
   "execution_count": 58,
   "metadata": {},
   "outputs": [
    {
     "data": {
      "text/plain": [
       "np.int64(386)"
      ]
     },
     "execution_count": 58,
     "metadata": {},
     "output_type": "execute_result"
    }
   ],
   "source": [
    "df['additionalRoom'].isnull().sum()"
   ]
  },
  {
   "cell_type": "code",
   "execution_count": 59,
   "metadata": {},
   "outputs": [],
   "source": [
    "df['additionalRoom'].fillna('not available',inplace=True)"
   ]
  },
  {
   "cell_type": "code",
   "execution_count": 61,
   "metadata": {},
   "outputs": [],
   "source": [
    "df['additionalRoom']=df['additionalRoom'].str.lower()"
   ]
  },
  {
   "cell_type": "code",
   "execution_count": 62,
   "metadata": {},
   "outputs": [
    {
     "data": {
      "text/plain": [
       "np.int64(19)"
      ]
     },
     "execution_count": 62,
     "metadata": {},
     "output_type": "execute_result"
    }
   ],
   "source": [
    "df['noOfFloor'].isnull().sum()"
   ]
  },
  {
   "cell_type": "code",
   "execution_count": 63,
   "metadata": {},
   "outputs": [
    {
     "data": {
      "text/plain": [
       "noOfFloor\n",
       "3 Floors     304\n",
       "2 Floors     288\n",
       "1 Floors     181\n",
       "4 Floors     136\n",
       "5 Floors       9\n",
       "0 Floors       6\n",
       "14 Floors      3\n",
       "6 Floors       3\n",
       "10 Floors      2\n",
       "11 Floors      2\n",
       "12 Floors      2\n",
       "21 Floors      1\n",
       "13 Floors      1\n",
       "27 Floors      1\n",
       "02 Floors      1\n",
       "20 Floors      1\n",
       "41 Floors      1\n",
       "51 Floors      1\n",
       "16 Floors      1\n",
       "33 Floors      1\n",
       "Name: count, dtype: int64"
      ]
     },
     "execution_count": 63,
     "metadata": {},
     "output_type": "execute_result"
    }
   ],
   "source": [
    "df['noOfFloor'].value_counts()"
   ]
  },
  {
   "cell_type": "code",
   "execution_count": 66,
   "metadata": {},
   "outputs": [],
   "source": [
    "df['noOfFloor']=df['noOfFloor'].str.split(' ').str.get(0)"
   ]
  },
  {
   "cell_type": "code",
   "execution_count": 68,
   "metadata": {},
   "outputs": [],
   "source": [
    "df.rename(columns={'noOfFloor':'floorNum'},inplace=True)"
   ]
  },
  {
   "cell_type": "code",
   "execution_count": 70,
   "metadata": {},
   "outputs": [
    {
     "data": {
      "text/plain": [
       "np.int64(303)"
      ]
     },
     "execution_count": 70,
     "metadata": {},
     "output_type": "execute_result"
    }
   ],
   "source": [
    "df['facing'].isnull().sum()"
   ]
  },
  {
   "cell_type": "code",
   "execution_count": 71,
   "metadata": {},
   "outputs": [],
   "source": [
    "df['facing'].fillna('NA',inplace=True)"
   ]
  },
  {
   "cell_type": "code",
   "execution_count": 72,
   "metadata": {},
   "outputs": [],
   "source": [
    "df['area']=round((df['price']*10000000)/df['price_per_sqft'])"
   ]
  },
  {
   "cell_type": "code",
   "execution_count": 73,
   "metadata": {},
   "outputs": [],
   "source": [
    "df.insert(loc=1,column='property_type',value='house')"
   ]
  },
  {
   "cell_type": "code",
   "execution_count": 74,
   "metadata": {},
   "outputs": [
    {
     "data": {
      "text/html": [
       "<div>\n",
       "<style scoped>\n",
       "    .dataframe tbody tr th:only-of-type {\n",
       "        vertical-align: middle;\n",
       "    }\n",
       "\n",
       "    .dataframe tbody tr th {\n",
       "        vertical-align: top;\n",
       "    }\n",
       "\n",
       "    .dataframe thead th {\n",
       "        text-align: right;\n",
       "    }\n",
       "</style>\n",
       "<table border=\"1\" class=\"dataframe\">\n",
       "  <thead>\n",
       "    <tr style=\"text-align: right;\">\n",
       "      <th></th>\n",
       "      <th>property_name</th>\n",
       "      <th>property_type</th>\n",
       "      <th>society</th>\n",
       "      <th>price</th>\n",
       "      <th>price_per_sqft</th>\n",
       "      <th>area</th>\n",
       "      <th>areaWithType</th>\n",
       "      <th>bedRoom</th>\n",
       "      <th>bathroom</th>\n",
       "      <th>balcony</th>\n",
       "      <th>additionalRoom</th>\n",
       "      <th>address</th>\n",
       "      <th>floorNum</th>\n",
       "      <th>facing</th>\n",
       "      <th>agePossession</th>\n",
       "      <th>nearbyLocations</th>\n",
       "      <th>description</th>\n",
       "      <th>furnishDetails</th>\n",
       "      <th>features</th>\n",
       "      <th>rating</th>\n",
       "    </tr>\n",
       "  </thead>\n",
       "  <tbody>\n",
       "    <tr>\n",
       "      <th>0</th>\n",
       "      <td>5 Bedroom House for sale in Sector 70A Gurgaon</td>\n",
       "      <td>house</td>\n",
       "      <td>bptp visionnaire</td>\n",
       "      <td>5.25</td>\n",
       "      <td>20115.0</td>\n",
       "      <td>2610.0</td>\n",
       "      <td>Plot area 290(242.48 sq.m.)</td>\n",
       "      <td>5</td>\n",
       "      <td>4</td>\n",
       "      <td>3+</td>\n",
       "      <td>servant room</td>\n",
       "      <td>29b, Sector 70A Gurgaon, Gurgaon, Haryana</td>\n",
       "      <td>3</td>\n",
       "      <td>North-East</td>\n",
       "      <td>0 to 1 Year Old</td>\n",
       "      <td>['Good Earth City Center 2', 'Kunskapsskolan I...</td>\n",
       "      <td>Do you wish to buy an independent house in sec...</td>\n",
       "      <td>['1 Wardrobe', '1 Fan', '1 Exhaust Fan', '1 Ge...</td>\n",
       "      <td>['Feng Shui / Vaastu Compliant', 'Private Gard...</td>\n",
       "      <td>['Environment5 out of 5', 'Lifestyle4 out of 5...</td>\n",
       "    </tr>\n",
       "  </tbody>\n",
       "</table>\n",
       "</div>"
      ],
      "text/plain": [
       "                                    property_name property_type  \\\n",
       "0  5 Bedroom House for sale in Sector 70A Gurgaon         house   \n",
       "\n",
       "            society  price  price_per_sqft    area  \\\n",
       "0  bptp visionnaire   5.25         20115.0  2610.0   \n",
       "\n",
       "                  areaWithType  bedRoom  bathroom balcony additionalRoom  \\\n",
       "0  Plot area 290(242.48 sq.m.)        5         4      3+   servant room   \n",
       "\n",
       "                                     address floorNum      facing  \\\n",
       "0  29b, Sector 70A Gurgaon, Gurgaon, Haryana        3  North-East   \n",
       "\n",
       "     agePossession                                    nearbyLocations  \\\n",
       "0  0 to 1 Year Old  ['Good Earth City Center 2', 'Kunskapsskolan I...   \n",
       "\n",
       "                                         description  \\\n",
       "0  Do you wish to buy an independent house in sec...   \n",
       "\n",
       "                                      furnishDetails  \\\n",
       "0  ['1 Wardrobe', '1 Fan', '1 Exhaust Fan', '1 Ge...   \n",
       "\n",
       "                                            features  \\\n",
       "0  ['Feng Shui / Vaastu Compliant', 'Private Gard...   \n",
       "\n",
       "                                              rating  \n",
       "0  ['Environment5 out of 5', 'Lifestyle4 out of 5...  "
      ]
     },
     "execution_count": 74,
     "metadata": {},
     "output_type": "execute_result"
    }
   ],
   "source": [
    "df.head(1)"
   ]
  },
  {
   "cell_type": "code",
   "execution_count": 75,
   "metadata": {},
   "outputs": [
    {
     "name": "stdout",
     "output_type": "stream",
     "text": [
      "<class 'pandas.core.frame.DataFrame'>\n",
      "Index: 964 entries, 0 to 1036\n",
      "Data columns (total 20 columns):\n",
      " #   Column           Non-Null Count  Dtype  \n",
      "---  ------           --------------  -----  \n",
      " 0   property_name    964 non-null    object \n",
      " 1   property_type    964 non-null    object \n",
      " 2   society          964 non-null    object \n",
      " 3   price            945 non-null    float64\n",
      " 4   price_per_sqft   945 non-null    float64\n",
      " 5   area             945 non-null    float64\n",
      " 6   areaWithType     964 non-null    object \n",
      " 7   bedRoom          964 non-null    int64  \n",
      " 8   bathroom         964 non-null    int64  \n",
      " 9   balcony          964 non-null    object \n",
      " 10  additionalRoom   964 non-null    object \n",
      " 11  address          959 non-null    object \n",
      " 12  floorNum         945 non-null    object \n",
      " 13  facing           964 non-null    object \n",
      " 14  agePossession    964 non-null    object \n",
      " 15  nearbyLocations  848 non-null    object \n",
      " 16  description      964 non-null    object \n",
      " 17  furnishDetails   729 non-null    object \n",
      " 18  features         662 non-null    object \n",
      " 19  rating           843 non-null    object \n",
      "dtypes: float64(3), int64(2), object(15)\n",
      "memory usage: 158.2+ KB\n"
     ]
    }
   ],
   "source": [
    "df.info()"
   ]
  },
  {
   "cell_type": "code",
   "execution_count": 76,
   "metadata": {},
   "outputs": [
    {
     "name": "stderr",
     "output_type": "stream",
     "text": [
      "<>:1: SyntaxWarning: invalid escape sequence '\\M'\n",
      "<>:1: SyntaxWarning: invalid escape sequence '\\M'\n",
      "C:\\Users\\ombha\\AppData\\Local\\Temp\\ipykernel_7656\\3853490416.py:1: SyntaxWarning: invalid escape sequence '\\M'\n",
      "  df.to_csv('B:\\Major_Git\\Capstone-99acres\\data\\external\\house_cleaned.csv',index=False)\n"
     ]
    }
   ],
   "source": [
    "df.to_csv('B:\\Major_Git\\Capstone-99acres\\data\\external\\house_cleaned.csv',index=False)"
   ]
  },
  {
   "cell_type": "code",
   "execution_count": null,
   "metadata": {},
   "outputs": [],
   "source": []
  }
 ],
 "metadata": {
  "kernelspec": {
   "display_name": "myenv",
   "language": "python",
   "name": "python3"
  },
  "language_info": {
   "codemirror_mode": {
    "name": "ipython",
    "version": 3
   },
   "file_extension": ".py",
   "mimetype": "text/x-python",
   "name": "python",
   "nbconvert_exporter": "python",
   "pygments_lexer": "ipython3",
   "version": "3.12.3"
  }
 },
 "nbformat": 4,
 "nbformat_minor": 2
}
